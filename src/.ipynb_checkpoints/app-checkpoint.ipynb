{
 "cells": [
  {
   "cell_type": "code",
   "execution_count": null,
   "metadata": {},
   "outputs": [],
   "source": [
    "%%html\n",
    "<script>\n",
    "// ### README ###\n",
    "// This is a javascript script that will auto-run the notebook and hide code at kernel ready.\n",
    "// If this did not work, simply run this cell like normal code, then click on the \"rerun the notebook\" button.\n",
    "\n",
    "    function code_toggle() {\n",
    "        if (code_show) {\n",
    "            $('div.input').hide();\n",
    "        }\n",
    "        else {\n",
    "            $('div.input').show();\n",
    "        }\n",
    "        code_show = !code_show;\n",
    "    }\n",
    "    require(\n",
    "        ['base/js/namespace', 'jquery'],\n",
    "        function(jupyter, $) {\n",
    "            $(jupyter.events).on(\"kernel_ready.Kernel\", function () {\n",
    "                console.log(\"Auto-running all cells below...\");\n",
    "                jupyter.actions.call('jupyter-notebook:run-all-cells-below');\n",
    "                jupyter.actions.call('jupyter-notebook:save-notebook');\n",
    "                code_show = true;\n",
    "                code_toggle();\n",
    "            });\n",
    "        }\n",
    "    );\n",
    "    function run_code() {\n",
    "        console.log(\"Rerunning all cells below...\");\n",
    "        IPython.notebook.execute_cells_below();\n",
    "        code_show = true;\n",
    "        code_toggle();\n",
    "    }\n",
    "</script>\n",
    "The raw code for this Jupyter Notebook is by default hidden for a cleaner UI.\n",
    "To toggle on/off the raw code, click <a href=\"javascript:code_toggle()\">here</a>. <br>\n",
    "Also, you can <a href=\"javascript:run_code()\">rerun the notebook</a>."
   ]
  },
  {
   "cell_type": "code",
   "execution_count": null,
   "metadata": {},
   "outputs": [],
   "source": [
    "%%capture\n",
    "%autosave 0"
   ]
  },
  {
   "cell_type": "code",
   "execution_count": null,
   "metadata": {
    "scrolled": false,
    "tags": []
   },
   "outputs": [],
   "source": [
    "from covid_data_manager import Level\n",
    "from geojson_manager import GeoJSONManager\n",
    "from choropleth_figure import Choropleth\n",
    "from line_figure import LineFigure"
   ]
  },
  {
   "cell_type": "code",
   "execution_count": null,
   "metadata": {},
   "outputs": [],
   "source": [
    "from ipywidgets import widgets"
   ]
  },
  {
   "cell_type": "code",
   "execution_count": null,
   "metadata": {},
   "outputs": [],
   "source": [
    "import plotly.graph_objects as go\n",
    "import plotly.io as pio\n",
    "pio.renderers.default = \"notebook\""
   ]
  },
  {
   "cell_type": "code",
   "execution_count": null,
   "metadata": {
    "tags": []
   },
   "outputs": [],
   "source": [
    "country = Level(\"../data/us.csv\")\n",
    "state = Level(\"../data/us-states.csv\")\n",
    "county = Level(\"../data/us-counties.csv\")"
   ]
  },
  {
   "cell_type": "code",
   "execution_count": null,
   "metadata": {},
   "outputs": [],
   "source": [
    "state_gjson = GeoJSONManager(\"../data/gz_2010_us_040_00_20m.json\")\n",
    "county_gjson = GeoJSONManager(\"../data/gz_2010_us_050_00_20m.json\")"
   ]
  },
  {
   "cell_type": "code",
   "execution_count": null,
   "metadata": {},
   "outputs": [],
   "source": [
    "fig_date = \"2020-09-27\""
   ]
  },
  {
   "cell_type": "code",
   "execution_count": null,
   "metadata": {},
   "outputs": [],
   "source": [
    "country_map = Choropleth(state.region().date(fig_date), state_gjson)\n",
    "state_map = Choropleth(county.region(\"01\").date(fig_date), county_gjson)"
   ]
  },
  {
   "cell_type": "code",
   "execution_count": null,
   "metadata": {},
   "outputs": [],
   "source": [
    "country_line = LineFigure(country.region())\n",
    "state_line = LineFigure(state.region(\"01\"))\n",
    "county_line = LineFigure(county.region(\"01001\"))"
   ]
  },
  {
   "cell_type": "code",
   "execution_count": null,
   "metadata": {},
   "outputs": [],
   "source": [
    "cases_button = widgets.Button(\n",
    "    description=\"Cases\",\n",
    "    disabled=True,\n",
    "    tooltip=\"Select whether or not the data displayed is the number of cases or deaths.\"\n",
    ")\n",
    "deaths_button = widgets.Button(\n",
    "    description=\"Deaths\",\n",
    "    disabled=False,\n",
    "    tooltip=\"Select whether or not the data displayed is the number of cases or deaths.\"\n",
    ")\n",
    "buttons = widgets.VBox([widgets.Label(\"Select which type of data is shown on the maps.\"),\n",
    "                             widgets.HBox([cases_button, deaths_button])])\n",
    "controls_padding = widgets.VBox([], layout = widgets.Layout(flex=\"3 1 auto\", width=\"auto\"))\n",
    "controls = widgets.HBox([buttons, controls_padding])"
   ]
  },
  {
   "cell_type": "code",
   "execution_count": null,
   "metadata": {
    "scrolled": false
   },
   "outputs": [],
   "source": [
    "import time\n",
    "\n",
    "line_box = widgets.VBox([country_line()])\n",
    "map_box = widgets.VBox([country_map()])\n",
    "master_box = widgets.VBox([controls, widgets.HBox([map_box, line_box])])\n",
    "\n",
    "def update_col(col):\n",
    "    country_map.update(state.region().date(fig_date), col=col)\n",
    "    state_map.update(county.region(state_map.fips).date(fig_date), col=col)\n",
    "def cases_click(change):\n",
    "    cases_button.disabled = True\n",
    "    deaths_button.disabled = False\n",
    "    update_col(\"cases\")\n",
    "def death_click(change):\n",
    "    deaths_button.disabled = True\n",
    "    cases_button.disabled = False\n",
    "    update_col(\"deaths\")\n",
    "\n",
    "cases_button.on_click(cases_click)\n",
    "deaths_button.on_click(death_click)\n",
    "\n",
    "\n",
    "def country_click(trace, points, device_state):        \n",
    "    line_box.children = [country_line(), state_line()]\n",
    "    map_box.children = [country_map(), state_map()]\n",
    "    \n",
    "    click_fips = country_map.fips_at_idx(points.point_inds[0])\n",
    "    state_line.update(state.region(click_fips))\n",
    "    state_map.update(county.region(click_fips).date(fig_date))\n",
    "\n",
    "def state_click(trace, points, device_state):\n",
    "    line_box.children = [country_line(), state_line(), county_line()]\n",
    "    \n",
    "    click_fips = state_map.fips_at_idx(points.point_inds[0])\n",
    "    county_line.update(county.region(click_fips))\n",
    "\n",
    "country_map.on_click(country_click)\n",
    "state_map.on_click(state_click)\n",
    "\n",
    "\n",
    "def line_click(trace, points, device_state):\n",
    "    fig_date = points.xs[0]\n",
    "    \n",
    "    country_map.update(state.region().date(fig_date))\n",
    "    state_map.update(county.region(state_map.fips).date(fig_date))\n",
    "\n",
    "country_line.on_click(line_click)\n",
    "state_line.on_click(line_click)\n",
    "county_line.on_click(line_click)\n",
    "\n",
    "\n",
    "display(master_box)\n",
    "\n",
    "country_line.update(country.region())\n",
    "country_map.update(state.region().date(fig_date))"
   ]
  },
  {
   "cell_type": "markdown",
   "metadata": {},
   "source": [
    "If a figure has trouble updating (especially when toggling between cases and deaths), hit the `Reset` icon on the top-right corner of the figure's frame.\n",
    "\n",
    "If that doesn't work, click the `Rerun the Notebook` link at the top of the page.\n",
    "\n",
    "---"
   ]
  },
  {
   "cell_type": "markdown",
   "metadata": {},
   "source": [
    "*Map files created by the US Census Bureau and converted to GeoJSON format by [Eric Celeste](https://eric.clst.org/tech/usgeojson/).*\n",
    "\n",
    "*Coronavirus data by [The New York Times](https://github.com/nytimes/covid-19-data).*"
   ]
  }
 ],
 "metadata": {
  "kernelspec": {
   "display_name": "Python 3.8.5 64-bit ('36-650': conda)",
   "language": "python",
   "name": "python38564bit36650conda45503307a5b3419599c363b22761e259"
  },
  "language_info": {
   "codemirror_mode": {
    "name": "ipython",
    "version": 3
   },
   "file_extension": ".py",
   "mimetype": "text/x-python",
   "name": "python",
   "nbconvert_exporter": "python",
   "pygments_lexer": "ipython3",
   "version": "3.8.5"
  }
 },
 "nbformat": 4,
 "nbformat_minor": 2
}
