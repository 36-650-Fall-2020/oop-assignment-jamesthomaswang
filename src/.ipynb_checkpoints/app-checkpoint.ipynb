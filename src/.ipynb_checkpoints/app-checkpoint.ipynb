{
 "cells": [
  {
   "cell_type": "code",
   "execution_count": 1,
   "metadata": {},
   "outputs": [
    {
     "data": {
      "text/html": [
       "<script>\n",
       "\n",
       "// This is a javascript script that will auto-run the notebook and hide code at kernel ready.\n",
       "// If this did not work, simply run this cell like normal code, then click on the \"rerun the notebook\" button.\n",
       "\n",
       "    code_show = true;\n",
       "    function code_toggle() {\n",
       "        if (code_show) {\n",
       "            $('div.input').hide();\n",
       "        }\n",
       "        else {\n",
       "            $('div.input').show();\n",
       "        }\n",
       "        code_show = !code_show\n",
       "    }\n",
       "    require(\n",
       "        ['base/js/namespace', 'jquery'],\n",
       "        function(jupyter, $) {\n",
       "            $(jupyter.events).on(\"kernel_ready.Kernel\", function () {\n",
       "                console.log(\"Auto-running all cells below...\");\n",
       "                jupyter.actions.call('jupyter-notebook:run-all-cells-below');\n",
       "                jupyter.actions.call('jupyter-notebook:save-notebook');\n",
       "                code_toggle();\n",
       "            });\n",
       "        }\n",
       "    );\n",
       "    function run_code() {\n",
       "        console.log(\"Rerunning all cells below...\");\n",
       "        IPython.notebook.execute_cells_below();\n",
       "        if (code_show) {\n",
       "            code_toggle();\n",
       "        }\n",
       "    }\n",
       "</script>\n",
       "The raw code for this Jupyter Notebook is by default hidden for a cleaner UI.\n",
       "To toggle on/off the raw code, click <a href=\"javascript:code_toggle()\">here</a>. <br>\n",
       "Alternatively, if a plot decided to stop working, you can <a href=\"javascript:run_code()\">rerun the notebook</a>.\n"
      ],
      "text/plain": [
       "<IPython.core.display.HTML object>"
      ]
     },
     "metadata": {},
     "output_type": "display_data"
    }
   ],
   "source": [
    "%%html\n",
    "<script>\n",
    "\n",
    "// This is a javascript script that will auto-run the notebook and hide code at kernel ready.\n",
    "// If this did not work, simply run this cell like normal code, then click on the \"rerun the notebook\" button.\n",
    "\n",
    "    code_show = true;\n",
    "    function code_toggle() {\n",
    "        if (code_show) {\n",
    "            $('div.input').hide();\n",
    "        }\n",
    "        else {\n",
    "            $('div.input').show();\n",
    "        }\n",
    "        code_show = !code_show\n",
    "    }\n",
    "    require(\n",
    "        ['base/js/namespace', 'jquery'],\n",
    "        function(jupyter, $) {\n",
    "            $(jupyter.events).on(\"kernel_ready.Kernel\", function () {\n",
    "                console.log(\"Auto-running all cells below...\");\n",
    "                jupyter.actions.call('jupyter-notebook:run-all-cells-below');\n",
    "                jupyter.actions.call('jupyter-notebook:save-notebook');\n",
    "                code_toggle();\n",
    "            });\n",
    "        }\n",
    "    );\n",
    "    function run_code() {\n",
    "        console.log(\"Rerunning all cells below...\");\n",
    "        IPython.notebook.execute_cells_below();\n",
    "        if (code_show) {\n",
    "            code_toggle();\n",
    "        }\n",
    "    }\n",
    "</script>\n",
    "The raw code for this Jupyter Notebook is by default hidden for a cleaner UI.\n",
    "To toggle on/off the raw code, click <a href=\"javascript:code_toggle()\">here</a>. <br>\n",
    "Alternatively, if a plot decided to stop working, you can <a href=\"javascript:run_code()\">rerun the notebook</a>."
   ]
  },
  {
   "cell_type": "code",
   "execution_count": 2,
   "metadata": {
    "scrolled": false,
    "tags": []
   },
   "outputs": [],
   "source": [
    "import pandas as pd\n",
    "from data_management import Level\n",
    "from interactive_figures import GeoJSONManager, Choropleth, LineFigure"
   ]
  },
  {
   "cell_type": "code",
   "execution_count": 3,
   "metadata": {},
   "outputs": [],
   "source": [
    "import plotly.graph_objects as go\n",
    "from ipywidgets import widgets\n",
    "from datetime import datetime"
   ]
  },
  {
   "cell_type": "code",
   "execution_count": 4,
   "metadata": {},
   "outputs": [],
   "source": [
    "import plotly.io as pio\n",
    "pio.renderers.default = \"notebook\""
   ]
  },
  {
   "cell_type": "code",
   "execution_count": 5,
   "metadata": {
    "tags": []
   },
   "outputs": [],
   "source": [
    "country = Level(\"../data/us.csv\")\n",
    "state = Level(\"../data/us-states.csv\")\n",
    "county = Level(\"../data/us-counties.csv\")"
   ]
  },
  {
   "cell_type": "code",
   "execution_count": 6,
   "metadata": {},
   "outputs": [],
   "source": [
    "state_map = GeoJSONManager(\"../data/gz_2010_us_040_00_20m.json\")\n",
    "county_map = GeoJSONManager(\"../data/gz_2010_us_050_00_20m.json\")"
   ]
  },
  {
   "cell_type": "code",
   "execution_count": 7,
   "metadata": {},
   "outputs": [],
   "source": [
    "fig_date = \"2020-09-27\""
   ]
  },
  {
   "cell_type": "code",
   "execution_count": 8,
   "metadata": {},
   "outputs": [],
   "source": [
    "state_map_fig = Choropleth(state.region().date(fig_date), state_map)\n",
    "county_map_fig = Choropleth(county.region(\"01\").date(fig_date), county_map)\n",
    "map_figs = [state_map_fig, county_map_fig]"
   ]
  },
  {
   "cell_type": "code",
   "execution_count": 9,
   "metadata": {},
   "outputs": [],
   "source": [
    "country_line_fig = LineFigure(country.region())\n",
    "state_line_fig = LineFigure(state.region(\"01\"))\n",
    "county_line_fig = LineFigure(county.region(\"01001\"))"
   ]
  },
  {
   "cell_type": "code",
   "execution_count": 10,
   "metadata": {},
   "outputs": [],
   "source": [
    "cases_col = widgets.ToggleButton(\n",
    "    value=True,\n",
    "    description='Cases',\n",
    "    disabled=False,\n",
    "    tooltip='Select whether or not the data displayed is the number of cases or deaths.'\n",
    ")\n",
    "deaths_col = widgets.ToggleButton(\n",
    "    value=False,\n",
    "    description='Deaths',\n",
    "    disabled=False,\n",
    "    tooltip='Select whether or not the data displayed is the number of cases or deaths.'\n",
    ")\n",
    "col_controls = widgets.VBox([widgets.Label(\"Select which type of data is shown on the maps.\"),\n",
    "                             widgets.HBox([cases_col, deaths_col])])\n",
    "controls_padding = widgets.VBox([], layout = widgets.Layout(flex='3 1 auto', width='auto'))\n",
    "controls = widgets.HBox([col_controls, controls_padding])\n",
    "\n",
    "def cases_col_callback(change):\n",
    "    if change['new']:\n",
    "        deaths_col.value = False\n",
    "        for map_fig in map_figs:\n",
    "            map_fig.update(col=\"cases\")\n",
    "def deaths_col_callback(change):\n",
    "    if change['new']:\n",
    "        cases_col.value = False\n",
    "        for map_fig in map_figs:\n",
    "            map_fig.update(col=\"deaths\")\n",
    "\n",
    "cases_col.observe(cases_col_callback)\n",
    "deaths_col.observe(deaths_col_callback)"
   ]
  },
  {
   "cell_type": "markdown",
   "metadata": {},
   "source": [
    "Apologies, but Plotly is quite buggy in Jupyter Notebook.\n",
    "\n",
    "If a figure has trouble updating, hit the `Reset` button on the top-right corner of the figure frame.\n",
    "\n",
    "If that doesn't work, click the `Rerun the Notebook` link at the top of the page."
   ]
  },
  {
   "cell_type": "code",
   "execution_count": 11,
   "metadata": {
    "scrolled": false
   },
   "outputs": [
    {
     "data": {
      "application/vnd.jupyter.widget-view+json": {
       "model_id": "a6fbd6b291754361b435ef68bf90287e",
       "version_major": 2,
       "version_minor": 0
      },
      "text/plain": [
       "VBox(children=(HBox(children=(VBox(children=(Label(value='Select which type of data is shown on the maps.'), H…"
      ]
     },
     "metadata": {},
     "output_type": "display_data"
    }
   ],
   "source": [
    "line_box = widgets.VBox([country_line_fig()])\n",
    "map_box = widgets.VBox([state_map_fig()])\n",
    "master_box = widgets.VBox([controls, widgets.HBox([map_box, line_box])])\n",
    "\n",
    "def state_callback(trace, points, device_state):        \n",
    "    line_box.children = [country_line_fig(), state_line_fig()]\n",
    "    map_box.children = [state_map_fig(), county_map_fig()]\n",
    "    \n",
    "    click_fips = state_map_fig.date_data.fips.iat[points.point_inds[0]]\n",
    "    state_line_fig.update(state.region(click_fips))\n",
    "    county_map_fig.update(county.region(click_fips).date(fig_date))\n",
    "\n",
    "def county_callback(trace, points, device_state):\n",
    "    line_box.children = [country_line_fig(), state_line_fig(), county_line_fig()]\n",
    "    \n",
    "    click_fips = county_map_fig.date_data.fips.iat[points.point_inds[0]]\n",
    "    county_line_fig.update(county.region(click_fips))\n",
    "\n",
    "def line_callback(trace, points, device_state):\n",
    "    fig_date = points.xs[0]\n",
    "    \n",
    "    state_map_fig.update(county.region().date(fig_date))\n",
    "    county_map_fig.update(county.region(county_map_fig.fips).date(fig_date))\n",
    "\n",
    "state_map_fig.on_click(state_callback)\n",
    "county_map_fig.on_click(county_callback)\n",
    "\n",
    "country_line_fig.on_click(line_callback)\n",
    "state_line_fig.on_click(line_callback)\n",
    "county_line_fig.on_click(line_callback)\n",
    "\n",
    "display(master_box)\n",
    "\n",
    "country_line_fig.update()\n",
    "state_map_fig.update()"
   ]
  },
  {
   "cell_type": "markdown",
   "metadata": {},
   "source": [
    "*Map files created by the US Census Bureau and converted to GeoJSON format by [Eric Celeste](https://eric.clst.org/tech/usgeojson/).*\n",
    "\n",
    "*Coronavirus data by [The New York Times](https://github.com/nytimes/covid-19-data).*"
   ]
  }
 ],
 "metadata": {
  "kernelspec": {
   "display_name": "Python 3.8.5 64-bit ('36-650': conda)",
   "language": "python",
   "name": "python38564bit36650conda45503307a5b3419599c363b22761e259"
  },
  "language_info": {
   "codemirror_mode": {
    "name": "ipython",
    "version": 3
   },
   "file_extension": ".py",
   "mimetype": "text/x-python",
   "name": "python",
   "nbconvert_exporter": "python",
   "pygments_lexer": "ipython3",
   "version": "3.8.5"
  }
 },
 "nbformat": 4,
 "nbformat_minor": 2
}
